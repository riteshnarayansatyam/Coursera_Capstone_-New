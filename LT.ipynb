{
 "cells": [
  {
   "cell_type": "markdown",
   "metadata": {},
   "source": [
    "Latitude and Longitude Details of all Classmates I will use This Data to plan a physical Get-togther once Covid Period over . For time being with this Data and its Analysis people in one city can help each other .  \n"
   ]
  },
  {
   "cell_type": "code",
   "execution_count": 7,
   "metadata": {},
   "outputs": [
    {
     "name": "stdout",
     "output_type": "stream",
     "text": [
      "                        Name        latitude       longitude\n",
      "0               Ritesh Kumar          23.667          86.933\n",
      "1                       Arti       37.773972     -122.431297\n",
      "2                      Visal        37.54129      -77.434769\n",
      "3                       Amit       29.749907      -95.358421\n",
      "4              Sarvesh Gupta       32.715736     -117.161087\n",
      "5                      Priya       38.624691      -90.184776\n",
      "6              Preeti Sharma       29.854263          77.888\n",
      "7       Sudhanshu Srivastava           26.85       80.949997\n",
      "8                      Mohit       12.972442       77.580643\n",
      "9             Amit Manchanda       28.535517       77.391029\n",
      "10      Vimalesh Kumar Singh           26.85       80.949997\n",
      "11                   Santosh       28.457523       77.026344\n",
      "12                Ankit Garg       28.535517       77.391029\n",
      "13            Saurabh Mathur       28.538336      -81.379234\n",
      "14          Amit Kumar Gupta          31.683          76.117\n",
      "15             Gautam Baghel       25.432571       81.851311\n",
      "16              Akash Saluja       28.457523       77.026344\n",
      "17              Gaurav Gupta       42.033363        -87.8834\n",
      "18                    Neeraj       18.530823       73.847466\n",
      "19             Ashwani Singh       12.972442       77.580643\n",
      "20  Sanjay Kumar Vishwakarma       12.972442       77.580643\n",
      "21           Rajesh Kushwaha       25.612677       85.158875\n",
      "22             Sunit Chandra       28.457523       77.026344\n",
      "23               Sunil Kumar           26.85       80.949997\n",
      "24                      Noor       28.535517       77.391029\n",
      "25            Himani Agarwal       28.457523       77.026344\n",
      "26              Anuj Singhal       28.457523       77.026344\n",
      "27               Rohit Potra         28.6448       77.216721\n",
      "28                Alok Bhatt        23.02579        72.58727\n",
      "29                        SK       20.462521       85.882988\n",
      "30               Ashok Yadav       25.286106       51.534817\n",
      "31                     Divya       40.866959      -74.417374\n",
      "32                Manish Sir        28.36678        79.43167\n",
      "33                 Ram Kumar        21.17024       72.831062\n",
      "34           Avinash Chandra       25.612677       85.158875\n",
      "35       Kunwar Piyush Singh        23.02579        72.58727\n",
      "36              Suresh Kumar  Not Abailable   Not Abailable \n",
      "37        Siddharth Kuchchal        21.17024       72.831062\n",
      "38            Sandeep Bhatia  Not Abailable   Not Abailable \n",
      "39           Vishwjeet Verma  Not Abailable   Not Abailable \n",
      "40           Shweta Agarwala  Not Abailable   Not Abailable \n",
      "41             Rajesh Sonkar  Not Abailable   Not Abailable \n",
      "42       Ashwani Kumar Singh  Not Abailable   Not Abailable \n",
      "43          Amit Kulshrestha      29.7559698     -95.3573194\n",
      "44           Yogender  Kumar         28.6263         77.2185\n"
     ]
    }
   ],
   "source": [
    "import pandas as pd\n",
    "df = pd.read_csv ('LT.csv')\n",
    "print(df)\n",
    "\n",
    "\n"
   ]
  },
  {
   "cell_type": "code",
   "execution_count": null,
   "metadata": {},
   "outputs": [],
   "source": []
  }
 ],
 "metadata": {
  "kernelspec": {
   "display_name": "Python 3",
   "language": "python",
   "name": "python3"
  },
  "language_info": {
   "codemirror_mode": {
    "name": "ipython",
    "version": 3
   },
   "file_extension": ".py",
   "mimetype": "text/x-python",
   "name": "python",
   "nbconvert_exporter": "python",
   "pygments_lexer": "ipython3",
   "version": "3.8.5"
  }
 },
 "nbformat": 4,
 "nbformat_minor": 4
}
