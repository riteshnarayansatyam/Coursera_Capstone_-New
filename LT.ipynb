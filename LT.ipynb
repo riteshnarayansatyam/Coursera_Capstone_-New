{
 "cells": [
  {
   "cell_type": "markdown",
   "metadata": {},
   "source": [
    "Latitude and Longitude Details of all Classmates I will use This Data to plan a physical Get-togther once Covid Period over . For time being with this Data and its Analysis people in one city can help each other .  \n"
   ]
  },
  {
   "cell_type": "code",
   "execution_count": 1,
   "metadata": {},
   "outputs": [
    {
     "name": "stdout",
     "output_type": "stream",
     "text": [
      "                            Name        latitude       longitude\n",
      "0                  Aritesh Kumar          23.667          86.933\n",
      "1                          Barti       37.773972     -122.431297\n",
      "2                         Cvisal        37.54129      -77.434769\n",
      "3                          Damit       29.749907      -95.358421\n",
      "4                 Esarvesh Gupta       32.715736     -117.161087\n",
      "5                         Fpriya       38.624691      -90.184776\n",
      "6                 Gpreeti Sharma       29.854263          77.888\n",
      "7          Asudhanshu Srivastava           26.85       80.949997\n",
      "8                         Bmohit       12.972442       77.580643\n",
      "9                Camit Manchanda       28.535517       77.391029\n",
      "10         Dvimalesh Kumar Singh           26.85       80.949997\n",
      "11                      Esantosh       28.457523       77.026344\n",
      "12                   Fankit Garg       28.535517       77.391029\n",
      "13               Gsaurabh Mathur       28.538336      -81.379234\n",
      "14             Hamit Kumar Gupta          31.683          76.117\n",
      "15                Kgautam Baghel       25.432571       81.851311\n",
      "16                 Uakash Saluja       28.457523       77.026344\n",
      "17                 Tgaurav Gupta       42.033363        -87.8834\n",
      "18                   Babu Neeraj       18.530823       73.847466\n",
      "19           Swami Ashwani Singh       12.972442       77.580643\n",
      "20  CMA Sanjay Kumar Vishwakarma       12.972442       77.580643\n",
      "21               Tajesh Kushwaha       25.612677       85.158875\n",
      "22                 Uunit Chandra       28.457523       77.026344\n",
      "23                   Uunil Kumar           26.85       80.949997\n",
      "24                         Jloor       28.535517       77.391029\n",
      "25              Hihimani Agarwal       28.457523       77.026344\n",
      "26                 Tanuj Singhal       28.457523       77.026344\n",
      "27                  Drohit Potra         28.6448       77.216721\n",
      "28                   Lalok Bhatt        23.02579        72.58727\n",
      "29                   Sunil Kamra       20.462521       85.882988\n",
      "30                  Jashok Yadav       25.286106       51.534817\n",
      "31                        Gdivya       40.866959      -74.417374\n",
      "32                 Lmanish Singh        28.36678        79.43167\n",
      "33                     Ram Kumar        21.17024       72.831062\n",
      "34              Tavinash Chandra       25.612677       85.158875\n",
      "35          Pkunwar Piyush Singh        23.02579        72.58727\n",
      "36                 Tsuresh Kumar  Not Abailable   Not Abailable \n",
      "37           Ghiddharth Kuchchal        21.17024       72.831062\n",
      "38                Handeep Bhatia  Not Abailable   Not Abailable \n",
      "39               Mishwjeet Verma  Not Abailable   Not Abailable \n",
      "40               Khweta Agarwala  Not Abailable   Not Abailable \n",
      "41                 Hajesh Sonkar  Not Abailable   Not Abailable \n",
      "42           Lshwani Kumar Singh  Not Abailable   Not Abailable \n",
      "43              Omit Kulshrestha      29.7559698     -95.3573194\n",
      "44               Togender  Kumar         28.6263         77.2185\n"
     ]
    }
   ],
   "source": [
    "import pandas as pd\n",
    "df = pd.read_csv ('LT.csv')\n",
    "print(df)\n",
    "\n",
    "\n"
   ]
  },
  {
   "cell_type": "code",
   "execution_count": null,
   "metadata": {},
   "outputs": [],
   "source": []
  }
 ],
 "metadata": {
  "kernelspec": {
   "display_name": "Python 3",
   "language": "python",
   "name": "python3"
  },
  "language_info": {
   "codemirror_mode": {
    "name": "ipython",
    "version": 3
   },
   "file_extension": ".py",
   "mimetype": "text/x-python",
   "name": "python",
   "nbconvert_exporter": "python",
   "pygments_lexer": "ipython3",
   "version": "3.8.5"
  }
 },
 "nbformat": 4,
 "nbformat_minor": 4
}
